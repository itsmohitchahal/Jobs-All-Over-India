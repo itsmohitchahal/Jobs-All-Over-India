{
  "nbformat": 4,
  "nbformat_minor": 0,
  "metadata": {
    "colab": {
      "name": "(IT) Web Development",
      "provenance": []
    },
    "kernelspec": {
      "name": "python3",
      "display_name": "Python 3"
    }
  },
  "cells": [
    {
      "cell_type": "markdown",
      "metadata": {
        "id": "IO75FBOAHyCt"
      },
      "source": [
        "# Visualisation"
      ]
    },
    {
      "cell_type": "code",
      "metadata": {
        "id": "NCcrms6GH0TM"
      },
      "source": [
        "import numpy as np\n",
        "import pandas as pd\n",
        "import matplotlib.pyplot as plt\n"
      ],
      "execution_count": 1,
      "outputs": []
    },
    {
      "cell_type": "code",
      "metadata": {
        "id": "sC5Q8JWfOiTj"
      },
      "source": [
        "df = pd.read_csv(\"/home/mohit/py/scraped_datasets/bigshyft_soup_all.csv\", sep=',')"
      ],
      "execution_count": 3,
      "outputs": []
    },
    {
      "cell_type": "code",
      "metadata": {
        "colab": {
          "base_uri": "https://localhost:8080/",
          "height": 173
        },
        "id": "ROe-3aFgOqoD",
        "outputId": "0a8fb251-2de4-4705-da1d-46772da28a11"
      },
      "source": [
        "df.describe()"
      ],
      "execution_count": 4,
      "outputs": [
        {
          "output_type": "execute_result",
          "data": {
            "text/plain": [
              "            company                 title              location        exp  \\\n",
              "count          1499                  1499                  1499       1499   \n",
              "unique           18                    12                    10         13   \n",
              "top     Lambda Test  Full Stack Developer  Bengaluru/ Bangalore  3-7 years   \n",
              "freq            150                   374                   375        300   \n",
              "\n",
              "           stipend              category  \n",
              "count          900                  1499  \n",
              "unique          12                     4  \n",
              "top     30-40 lacs  Back End Development  \n",
              "freq            75                   580  "
            ],
            "text/html": [
              "<div>\n",
              "<style scoped>\n",
              "    .dataframe tbody tr th:only-of-type {\n",
              "        vertical-align: middle;\n",
              "    }\n",
              "\n",
              "    .dataframe tbody tr th {\n",
              "        vertical-align: top;\n",
              "    }\n",
              "\n",
              "    .dataframe thead th {\n",
              "        text-align: right;\n",
              "    }\n",
              "</style>\n",
              "<table border=\"1\" class=\"dataframe\">\n",
              "  <thead>\n",
              "    <tr style=\"text-align: right;\">\n",
              "      <th></th>\n",
              "      <th>company</th>\n",
              "      <th>title</th>\n",
              "      <th>location</th>\n",
              "      <th>exp</th>\n",
              "      <th>stipend</th>\n",
              "      <th>category</th>\n",
              "    </tr>\n",
              "  </thead>\n",
              "  <tbody>\n",
              "    <tr>\n",
              "      <th>count</th>\n",
              "      <td>1499</td>\n",
              "      <td>1499</td>\n",
              "      <td>1499</td>\n",
              "      <td>1499</td>\n",
              "      <td>900</td>\n",
              "      <td>1499</td>\n",
              "    </tr>\n",
              "    <tr>\n",
              "      <th>unique</th>\n",
              "      <td>18</td>\n",
              "      <td>12</td>\n",
              "      <td>10</td>\n",
              "      <td>13</td>\n",
              "      <td>12</td>\n",
              "      <td>4</td>\n",
              "    </tr>\n",
              "    <tr>\n",
              "      <th>top</th>\n",
              "      <td>Lambda Test</td>\n",
              "      <td>Full Stack Developer</td>\n",
              "      <td>Bengaluru/ Bangalore</td>\n",
              "      <td>3-7 years</td>\n",
              "      <td>30-40 lacs</td>\n",
              "      <td>Back End Development</td>\n",
              "    </tr>\n",
              "    <tr>\n",
              "      <th>freq</th>\n",
              "      <td>150</td>\n",
              "      <td>374</td>\n",
              "      <td>375</td>\n",
              "      <td>300</td>\n",
              "      <td>75</td>\n",
              "      <td>580</td>\n",
              "    </tr>\n",
              "  </tbody>\n",
              "</table>\n",
              "</div>"
            ]
          },
          "metadata": {
            "tags": []
          },
          "execution_count": 4
        }
      ]
    },
    {
      "cell_type": "code",
      "metadata": {
        "colab": {
          "base_uri": "https://localhost:8080/",
          "height": 204
        },
        "id": "7nhJYmqJOslm",
        "outputId": "bf3375a7-ab2c-4ad4-8424-3e89f38e902b"
      },
      "source": [
        "df.tail()"
      ],
      "execution_count": 5,
      "outputs": [
        {
          "output_type": "execute_result",
          "data": {
            "text/plain": [
              "                                 company                        title  \\\n",
              "1494  Moback Technologies India Pvt Ltd         Full Stack Developer    \n",
              "1495             Codingmart Technologies               PHP Developer    \n",
              "1496                         Lambda Test         Engineering Manager    \n",
              "1497                            Redbytes         Full Stack Developer   \n",
              "1498                             Kvantum  Senior Full Stack Developer   \n",
              "\n",
              "                  location         exp     stipend              category  \n",
              "1494  Bengaluru/ Bangalore  6-10 years  20-30 lacs  Back End Development  \n",
              "1495  Bengaluru/ Bangalore   3-7 years  11-25 lacs  Back End Development  \n",
              "1496                 Noida   6-9 years  25-40 lacs  Back End Development  \n",
              "1497                  Pune   2-4 years         NaN  Back End Development  \n",
              "1498     Gurugram/ Gurgaon   3-5 years  12-20 lacs  Back End Development  "
            ],
            "text/html": [
              "<div>\n",
              "<style scoped>\n",
              "    .dataframe tbody tr th:only-of-type {\n",
              "        vertical-align: middle;\n",
              "    }\n",
              "\n",
              "    .dataframe tbody tr th {\n",
              "        vertical-align: top;\n",
              "    }\n",
              "\n",
              "    .dataframe thead th {\n",
              "        text-align: right;\n",
              "    }\n",
              "</style>\n",
              "<table border=\"1\" class=\"dataframe\">\n",
              "  <thead>\n",
              "    <tr style=\"text-align: right;\">\n",
              "      <th></th>\n",
              "      <th>company</th>\n",
              "      <th>title</th>\n",
              "      <th>location</th>\n",
              "      <th>exp</th>\n",
              "      <th>stipend</th>\n",
              "      <th>category</th>\n",
              "    </tr>\n",
              "  </thead>\n",
              "  <tbody>\n",
              "    <tr>\n",
              "      <th>1494</th>\n",
              "      <td>Moback Technologies India Pvt Ltd</td>\n",
              "      <td>Full Stack Developer</td>\n",
              "      <td>Bengaluru/ Bangalore</td>\n",
              "      <td>6-10 years</td>\n",
              "      <td>20-30 lacs</td>\n",
              "      <td>Back End Development</td>\n",
              "    </tr>\n",
              "    <tr>\n",
              "      <th>1495</th>\n",
              "      <td>Codingmart Technologies</td>\n",
              "      <td>PHP Developer</td>\n",
              "      <td>Bengaluru/ Bangalore</td>\n",
              "      <td>3-7 years</td>\n",
              "      <td>11-25 lacs</td>\n",
              "      <td>Back End Development</td>\n",
              "    </tr>\n",
              "    <tr>\n",
              "      <th>1496</th>\n",
              "      <td>Lambda Test</td>\n",
              "      <td>Engineering Manager</td>\n",
              "      <td>Noida</td>\n",
              "      <td>6-9 years</td>\n",
              "      <td>25-40 lacs</td>\n",
              "      <td>Back End Development</td>\n",
              "    </tr>\n",
              "    <tr>\n",
              "      <th>1497</th>\n",
              "      <td>Redbytes</td>\n",
              "      <td>Full Stack Developer</td>\n",
              "      <td>Pune</td>\n",
              "      <td>2-4 years</td>\n",
              "      <td>NaN</td>\n",
              "      <td>Back End Development</td>\n",
              "    </tr>\n",
              "    <tr>\n",
              "      <th>1498</th>\n",
              "      <td>Kvantum</td>\n",
              "      <td>Senior Full Stack Developer</td>\n",
              "      <td>Gurugram/ Gurgaon</td>\n",
              "      <td>3-5 years</td>\n",
              "      <td>12-20 lacs</td>\n",
              "      <td>Back End Development</td>\n",
              "    </tr>\n",
              "  </tbody>\n",
              "</table>\n",
              "</div>"
            ]
          },
          "metadata": {
            "tags": []
          },
          "execution_count": 5
        }
      ]
    },
    {
      "cell_type": "code",
      "metadata": {
        "colab": {
          "base_uri": "https://localhost:8080/",
          "height": 124
        },
        "id": "6Q3YL3ncO4uq",
        "outputId": "310b17da-5694-4fe3-bfcc-0e615ced0f9c"
      },
      "source": [
        "category_data = df.category.str.strip().value_counts().reset_index()\n",
        "category_data.columns = [\"Category\", \"Job Opportunities\"]\n",
        "# category_data = category_data[]\n",
        "category_data.style.background_gradient(cmap = \"Reds\")"
      ],
      "execution_count": 6,
      "outputs": [
        {
          "output_type": "execute_result",
          "data": {
            "text/plain": [
              "<pandas.io.formats.style.Styler at 0x7f9c72bd5eb0>"
            ],
            "text/html": [
              "<style  type=\"text/css\" >\n",
              "#T_d5f7d9da_37ea_11eb_b34d_3f2e77f79488row0_col1{\n",
              "            background-color:  #67000d;\n",
              "            color:  #f1f1f1;\n",
              "        }#T_d5f7d9da_37ea_11eb_b34d_3f2e77f79488row1_col1{\n",
              "            background-color:  #fdcab5;\n",
              "            color:  #000000;\n",
              "        }#T_d5f7d9da_37ea_11eb_b34d_3f2e77f79488row2_col1{\n",
              "            background-color:  #feeae0;\n",
              "            color:  #000000;\n",
              "        }#T_d5f7d9da_37ea_11eb_b34d_3f2e77f79488row3_col1{\n",
              "            background-color:  #fff5f0;\n",
              "            color:  #000000;\n",
              "        }</style><table id=\"T_d5f7d9da_37ea_11eb_b34d_3f2e77f79488\" ><thead>    <tr>        <th class=\"blank level0\" ></th>        <th class=\"col_heading level0 col0\" >Category</th>        <th class=\"col_heading level0 col1\" >Job Opportunities</th>    </tr></thead><tbody>\n",
              "                <tr>\n",
              "                        <th id=\"T_d5f7d9da_37ea_11eb_b34d_3f2e77f79488level0_row0\" class=\"row_heading level0 row0\" >0</th>\n",
              "                        <td id=\"T_d5f7d9da_37ea_11eb_b34d_3f2e77f79488row0_col0\" class=\"data row0 col0\" >Back End Development</td>\n",
              "                        <td id=\"T_d5f7d9da_37ea_11eb_b34d_3f2e77f79488row0_col1\" class=\"data row0 col1\" >580</td>\n",
              "            </tr>\n",
              "            <tr>\n",
              "                        <th id=\"T_d5f7d9da_37ea_11eb_b34d_3f2e77f79488level0_row1\" class=\"row_heading level0 row1\" >1</th>\n",
              "                        <td id=\"T_d5f7d9da_37ea_11eb_b34d_3f2e77f79488row1_col0\" class=\"data row1 col0\" >Front End Development</td>\n",
              "                        <td id=\"T_d5f7d9da_37ea_11eb_b34d_3f2e77f79488row1_col1\" class=\"data row1 col1\" >340</td>\n",
              "            </tr>\n",
              "            <tr>\n",
              "                        <th id=\"T_d5f7d9da_37ea_11eb_b34d_3f2e77f79488level0_row2\" class=\"row_heading level0 row2\" >2</th>\n",
              "                        <td id=\"T_d5f7d9da_37ea_11eb_b34d_3f2e77f79488row2_col0\" class=\"data row2 col0\" >Mobile Development</td>\n",
              "                        <td id=\"T_d5f7d9da_37ea_11eb_b34d_3f2e77f79488row2_col1\" class=\"data row2 col1\" >300</td>\n",
              "            </tr>\n",
              "            <tr>\n",
              "                        <th id=\"T_d5f7d9da_37ea_11eb_b34d_3f2e77f79488level0_row3\" class=\"row_heading level0 row3\" >3</th>\n",
              "                        <td id=\"T_d5f7d9da_37ea_11eb_b34d_3f2e77f79488row3_col0\" class=\"data row3 col0\" >Full Stack Development</td>\n",
              "                        <td id=\"T_d5f7d9da_37ea_11eb_b34d_3f2e77f79488row3_col1\" class=\"data row3 col1\" >279</td>\n",
              "            </tr>\n",
              "    </tbody></table>"
            ]
          },
          "metadata": {
            "tags": []
          },
          "execution_count": 6
        }
      ]
    },
    {
      "cell_type": "code",
      "metadata": {
        "colab": {
          "base_uri": "https://localhost:8080/",
          "height": 187
        },
        "id": "NvWHAfDGPF5O",
        "outputId": "2e78e2e2-8930-400b-dab7-c8223f56116e"
      },
      "source": [
        "location_data = df.location.str.strip().str.split(',', expand=True)[0].str.split('/', expand=True)[0].value_counts().reset_index()\n",
        "location_data.columns = [\"Location\", \"Job Opportunities\"]\n",
        "location_data = location_data[:20]\n",
        "location_data.style.background_gradient(cmap = \"Greens\")"
      ],
      "execution_count": 7,
      "outputs": [
        {
          "output_type": "execute_result",
          "data": {
            "text/plain": [
              "<pandas.io.formats.style.Styler at 0x7f9c72c160a0>"
            ],
            "text/html": [
              "<style  type=\"text/css\" >\n",
              "#T_d71d112c_37ea_11eb_b34d_3f2e77f79488row0_col1{\n",
              "            background-color:  #00441b;\n",
              "            color:  #f1f1f1;\n",
              "        }#T_d71d112c_37ea_11eb_b34d_3f2e77f79488row1_col1{\n",
              "            background-color:  #4bb062;\n",
              "            color:  #000000;\n",
              "        }#T_d71d112c_37ea_11eb_b34d_3f2e77f79488row2_col1{\n",
              "            background-color:  #98d594;\n",
              "            color:  #000000;\n",
              "        }#T_d71d112c_37ea_11eb_b34d_3f2e77f79488row3_col1,#T_d71d112c_37ea_11eb_b34d_3f2e77f79488row4_col1{\n",
              "            background-color:  #d3eecd;\n",
              "            color:  #000000;\n",
              "        }#T_d71d112c_37ea_11eb_b34d_3f2e77f79488row5_col1{\n",
              "            background-color:  #d4eece;\n",
              "            color:  #000000;\n",
              "        }#T_d71d112c_37ea_11eb_b34d_3f2e77f79488row6_col1{\n",
              "            background-color:  #f7fcf5;\n",
              "            color:  #000000;\n",
              "        }</style><table id=\"T_d71d112c_37ea_11eb_b34d_3f2e77f79488\" ><thead>    <tr>        <th class=\"blank level0\" ></th>        <th class=\"col_heading level0 col0\" >Location</th>        <th class=\"col_heading level0 col1\" >Job Opportunities</th>    </tr></thead><tbody>\n",
              "                <tr>\n",
              "                        <th id=\"T_d71d112c_37ea_11eb_b34d_3f2e77f79488level0_row0\" class=\"row_heading level0 row0\" >0</th>\n",
              "                        <td id=\"T_d71d112c_37ea_11eb_b34d_3f2e77f79488row0_col0\" class=\"data row0 col0\" >Bengaluru</td>\n",
              "                        <td id=\"T_d71d112c_37ea_11eb_b34d_3f2e77f79488row0_col1\" class=\"data row0 col1\" >450</td>\n",
              "            </tr>\n",
              "            <tr>\n",
              "                        <th id=\"T_d71d112c_37ea_11eb_b34d_3f2e77f79488level0_row1\" class=\"row_heading level0 row1\" >1</th>\n",
              "                        <td id=\"T_d71d112c_37ea_11eb_b34d_3f2e77f79488row1_col0\" class=\"data row1 col0\" >Hyderabad</td>\n",
              "                        <td id=\"T_d71d112c_37ea_11eb_b34d_3f2e77f79488row1_col1\" class=\"data row1 col1\" >300</td>\n",
              "            </tr>\n",
              "            <tr>\n",
              "                        <th id=\"T_d71d112c_37ea_11eb_b34d_3f2e77f79488level0_row2\" class=\"row_heading level0 row2\" >2</th>\n",
              "                        <td id=\"T_d71d112c_37ea_11eb_b34d_3f2e77f79488row2_col0\" class=\"data row2 col0\" >Pune</td>\n",
              "                        <td id=\"T_d71d112c_37ea_11eb_b34d_3f2e77f79488row2_col1\" class=\"data row2 col1\" >225</td>\n",
              "            </tr>\n",
              "            <tr>\n",
              "                        <th id=\"T_d71d112c_37ea_11eb_b34d_3f2e77f79488level0_row3\" class=\"row_heading level0 row3\" >3</th>\n",
              "                        <td id=\"T_d71d112c_37ea_11eb_b34d_3f2e77f79488row3_col0\" class=\"data row3 col0\" >Noida</td>\n",
              "                        <td id=\"T_d71d112c_37ea_11eb_b34d_3f2e77f79488row3_col1\" class=\"data row3 col1\" >150</td>\n",
              "            </tr>\n",
              "            <tr>\n",
              "                        <th id=\"T_d71d112c_37ea_11eb_b34d_3f2e77f79488level0_row4\" class=\"row_heading level0 row4\" >4</th>\n",
              "                        <td id=\"T_d71d112c_37ea_11eb_b34d_3f2e77f79488row4_col0\" class=\"data row4 col0\" >Remote</td>\n",
              "                        <td id=\"T_d71d112c_37ea_11eb_b34d_3f2e77f79488row4_col1\" class=\"data row4 col1\" >150</td>\n",
              "            </tr>\n",
              "            <tr>\n",
              "                        <th id=\"T_d71d112c_37ea_11eb_b34d_3f2e77f79488level0_row5\" class=\"row_heading level0 row5\" >5</th>\n",
              "                        <td id=\"T_d71d112c_37ea_11eb_b34d_3f2e77f79488row5_col0\" class=\"data row5 col0\" >Delhi</td>\n",
              "                        <td id=\"T_d71d112c_37ea_11eb_b34d_3f2e77f79488row5_col1\" class=\"data row5 col1\" >149</td>\n",
              "            </tr>\n",
              "            <tr>\n",
              "                        <th id=\"T_d71d112c_37ea_11eb_b34d_3f2e77f79488level0_row6\" class=\"row_heading level0 row6\" >6</th>\n",
              "                        <td id=\"T_d71d112c_37ea_11eb_b34d_3f2e77f79488row6_col0\" class=\"data row6 col0\" >Gurugram</td>\n",
              "                        <td id=\"T_d71d112c_37ea_11eb_b34d_3f2e77f79488row6_col1\" class=\"data row6 col1\" >75</td>\n",
              "            </tr>\n",
              "    </tbody></table>"
            ]
          },
          "metadata": {
            "tags": []
          },
          "execution_count": 7
        }
      ]
    }
  ]
}