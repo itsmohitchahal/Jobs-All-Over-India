{
  "nbformat": 4,
  "nbformat_minor": 0,
  "metadata": {
    "colab": {
      "name": "Scraping 1 (naukri.com)",
      "provenance": []
    },
    "kernelspec": {
      "name": "python3",
      "display_name": "Python 3"
    }
  },
  "cells": [
    {
      "cell_type": "code",
      "metadata": {
        "id": "lCVokNSbGdKR"
      },
      "source": [
        "from pprint import pprint\n",
        "import requests\n",
        "import json\n",
        "import csv\n",
        "import ast"
      ],
      "execution_count": null,
      "outputs": []
    },
    {
      "cell_type": "code",
      "metadata": {
        "id": "9S1nlXvoGhnx"
      },
      "source": [
        "headers = {\n",
        "    'authority': 'www.naukri.com',\n",
        "    'accept': 'application/json',\n",
        "    'clientid': 'd3skt0p',\n",
        "    'cache-control': 'no-cache',\n",
        "    'appid': '109',\n",
        "    'user-agent': 'Mozilla/5.0 (X11; Linux x86_64) AppleWebKit/537.36 (KHTML, like Gecko) Chrome/87.0.4280.66 Safari/537.36',\n",
        "    'systemid': '109',\n",
        "    'content-type': 'application/json',\n",
        "    'sec-fetch-site': 'same-origin',\n",
        "    'sec-fetch-mode': 'cors',\n",
        "    'sec-fetch-dest': 'empty',\n",
        "    'referer': 'https://www.naukri.com/law-jobs-2?k=law', # this line\n",
        "    'accept-language': 'en-GB,en;q=0.9',\n",
        "    'cookie': '_t_s=direct; _t_ds=42967a111606658380-7142967a11-042967a11; _t_us=5FC3A94D; test=naukri.com; _t_s=direct; PHPSESSID=a8170a1196c72cad6a9dc03e8931f958; _t_ds=42967a111606658380-7142967a11-042967a11; bm_sz=DCC93136A5B9B98D5AD4455A9D9C6419~YAAQg7YRYBzkmbF1AQAASlVNFAmLiyuTNPN8yC+1ROurVthJumDHveyutpPhkAowZfsyjaes7vRWd6RiiZL+QuuFB0zkL1qvH0bdzemufP1PkCsTBJqHPnTe+jz/gVBUbeXjns90JrMByBDS4nynWNEPsd1E0gToXEY9h/+5lxqpxenAcSpFAu9Ee63bsOYJ; _abck=59491F55967BCAC95FFDDB32B0C5E074~0~YAAQg7YRYCXkmbF1AQAAU1pNFAT9jNbDZB3Z3OV/gQN0Jpo9bvKiMdosoGOKhsNSoF6W2SYu4M7qLN5P8uUFFOCfPEzGJ3Nv9QpyCqAg19K+GTYtj5w8P7QDnt2wAw0zmq18L8ho6CD+94IFRs5pSUaqhZIJZqoslfsuezPjz1gVrNmR+NyatSDOuOCe4eRF4Vkc0V4XL0biobR5KHI2sKukRRtg6uAqqIs3qEZ4+ECU2eXyodZB3wyKAg/LU/8e3jUlmZJr27Oo9yTDLYWNBe64L/J4LBiSoQCxhvCMbdKzMedtW60kGX7XuKHSXtT/RnuliRZBgoUZixgDc8Y+jsMQRCv+Sg==~-1~||-1||~-1; _t_us=5FC3B9FA; bm_mi=72879355B233D6C7E643FE7EA4FB0914~rxs+DOtkiqQ/DDtnrBFQwvygBP9Hql8uiXVjZ2/Jra4AwP2Kdg+3TFNWOJ0sw9bAEkbaSxcqQ+79UP4bAhdTYyz1wlo02XMWqFLxBwlhEJwkrp/4EGLUjY2BzznOP8eRd4rE/hK3x90VGadxwFgeUZ8kJ9kmzyBArxcGe6UuU71kkrAhX00+aXkcbP88Ai1g3SQAVXK6EIuzHMEzUMyDqgLIohTKsUZjdriBjguzb6g=; bm_sv=6B3E6192266765940708572929D0FA11~jfaPzot4/IaJncYBqkgocjEQMDGlMR7yRpha8lcXnb4eXfgaS88iSsKD7zaNWFE3bgRq+aC312UgvXRKPqO9Qw6r6Uzk+Cwy3rhmbnYCWimoDyH+4gSWvnopgG5PRjLayJIj+iQkGFDNVh19DMxMO6PodmO3lonwKp3bOEeWf4M=; ak_bmsc=405A2EF20D76755515DA9F773072259E6011B683F71600004DA9C35FBFAA540E~plmMRtl8qfFpkwE0CLDoiAN8ayiphNtRtNs8tq31OZICjC9+iJohc8yFtTxP++o9TCENvWIiGhHoN+3Vrz1kt3i4Ag0vYZC5I0rNDw844wZ5clhAKLv3wUTMZQKUoOkMWxlu4DOMIiODLm6Cd0iTEqikZ5DPH68+JTAJMyI2kL2D/Ea05snz19hGTsWBnbH5kkTYK33HDxOm19caCmfNVLCsg1I7TXLDRmoy31dbJNIxUF3zKpZ28dRq1MDgYWiW+JLmqJt89/6Ad5qVj88Ka8bA==; jd=051020004164; _t_r=1091%2F%2F',\n",
        "}\n",
        "params = (\n",
        "    ('noOfResults', '20'),\n",
        "    ('urlType', 'search_by_keyword'),\n",
        "    ('searchType', 'adv'),\n",
        "    ('keyword', 'law'),\n",
        "    ('pageNo', '2'), # this line\n",
        "    ('k', 'law'),\n",
        "    ('seoKey', 'law-jobs-2'), # this line\n",
        "    ('src', 'jobsearchDesk'),\n",
        "    ('latLong', ''),\n",
        ")"
      ],
      "execution_count": null,
      "outputs": []
    },
    {
      "cell_type": "code",
      "metadata": {
        "id": "uMqfOKvKI73t"
      },
      "source": [
        "data_of_data = [];\n",
        "ind = 2\n",
        "limitman = 1731 # change this\n",
        "while (ind <= limitman):\n",
        "    print(ind)\n",
        "    copy_headers = headers\n",
        "    copy_params = params\n",
        "    # 1\n",
        "    copy_headers['referer'] = \"https://www.naukri.com/law-jobs-\" + str(ind) + \"?k=law\"\n",
        "    # print(copy_headers['referer'])\n",
        "    # 2\n",
        "    copy_params = (\n",
        "    ('noOfResults', '20'),\n",
        "    ('urlType', 'search_by_keyword'),\n",
        "    ('searchType', 'adv'),\n",
        "    ('keyword', 'law'),\n",
        "    ('pageNo', str(ind)), # this line\n",
        "    ('k', 'law'),\n",
        "    ('seoKey', 'law-jobs-'+str(ind)), # this line\n",
        "    ('src', 'jobsearchDesk'),\n",
        "    ('latLong', ''),       \n",
        "    )\n",
        "    # print(copy_params[4])\n",
        "    # 3\n",
        "    # copy_params[6][1] = \"law-jobs-\" + str(ind);\n",
        "    # print(copy_params[6])\n",
        "    ind = ind+1\n",
        "    response = requests.get('https://www.naukri.com/jobapi/v3/search', headers=copy_headers, params=copy_params)\n",
        "    # print(response.text)\n",
        "    json_data = json.loads(response.text)\n",
        "    jobs = json_data['jobDetails']\n",
        "    for job in jobs:\n",
        "        obj = {\n",
        "            'title': job['title'],\n",
        "            'company': job['companyName'],\n",
        "            'jobUrl': job['jdURL']\n",
        "        }\n",
        "        if \"tagsAndSkills\" in job:\n",
        "          obj[\"tags\"] = job['tagsAndSkills']\n",
        "        for xyz in job[\"placeholders\"]:\n",
        "            obj[xyz[\"type\"]]= xyz[\"label\"]\n",
        "        data_of_data.append(obj)\n",
        "# pprint(data_of_data)\n"
      ],
      "execution_count": null,
      "outputs": []
    },
    {
      "cell_type": "code",
      "metadata": {
        "id": "1Ivr6EGk6b7g"
      },
      "source": [
        "# pprint(data_of_data)"
      ],
      "execution_count": null,
      "outputs": []
    },
    {
      "cell_type": "markdown",
      "metadata": {
        "id": "c4nsnZCxHDUe"
      },
      "source": [
        "Json to CSV"
      ]
    },
    {
      "cell_type": "code",
      "metadata": {
        "id": "xf3PYMnRG5tz"
      },
      "source": [
        "data_file = open('data_file.csv', 'w')\n",
        "csv_writer = csv.writer(data_file) \n",
        "count = 0\n",
        "for data in data_of_data:\n",
        "  if (count == 0):\n",
        "    count += 1\n",
        "    header = data.keys() \n",
        "    csv_writer.writerow(header) \n",
        "    continue\n",
        "  csv_writer.writerow(data.values())\n",
        "  count += 1\n",
        "data_file.close()\n",
        "# END OF SECTION"
      ],
      "execution_count": null,
      "outputs": []
    }
  ]
}